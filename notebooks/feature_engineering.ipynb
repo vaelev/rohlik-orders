{
 "cells": [
  {
   "cell_type": "markdown",
   "id": "3159928ac0d4d9ef",
   "metadata": {},
   "source": [
    "# Feature Engineering"
   ]
  },
  {
   "cell_type": "markdown",
   "id": "a50ebe3d777b2611",
   "metadata": {},
   "source": [
    "### Imports"
   ]
  },
  {
   "cell_type": "code",
   "id": "initial_id",
   "metadata": {
    "ExecuteTime": {
     "end_time": "2024-08-16T10:06:47.286495Z",
     "start_time": "2024-08-16T10:06:47.280284Z"
    }
   },
   "source": [
    "from sklearn.preprocessing import OneHotEncoder, LabelEncoder, StandardScaler\n",
    "import numpy as np\n",
    "import pandas as pd\n",
    "from math import pi"
   ],
   "outputs": [],
   "execution_count": 99
  },
  {
   "cell_type": "code",
   "id": "45e3d544ffbbfd54",
   "metadata": {
    "ExecuteTime": {
     "end_time": "2024-08-16T10:06:48.184283Z",
     "start_time": "2024-08-16T10:06:48.162349Z"
    }
   },
   "source": [
    "df_train = pd.read_pickle('data/train_clean.pkl')\n",
    "df_train_calender = pd.read_pickle('data/train_calender_clean.pkl')\n",
    "df_test = pd.read_pickle('data/test_clean.pkl')\n",
    "df_test_calender = pd.read_pickle('data/test_calender_clean.pkl')"
   ],
   "outputs": [],
   "execution_count": 100
  },
  {
   "cell_type": "markdown",
   "id": "6a678678b7076420",
   "metadata": {},
   "source": [
    "### Get overview"
   ]
  },
  {
   "cell_type": "code",
   "id": "6e205372ed8c7e43",
   "metadata": {
    "ExecuteTime": {
     "end_time": "2024-08-16T10:06:48.491987Z",
     "start_time": "2024-08-16T10:06:48.463323Z"
    }
   },
   "source": [
    "df_train.head()"
   ],
   "outputs": [
    {
     "data": {
      "text/plain": [
       "  warehouse       date  orders holiday_name  holiday  shutdown  mini_shutdown  \\\n",
       "0  Prague_1 2020-12-05  6895.0          NaN        0         0              0   \n",
       "1  Prague_1 2020-12-06  6584.0          NaN        0         0              0   \n",
       "2  Prague_1 2020-12-07  7030.0          NaN        0         0              0   \n",
       "3  Prague_1 2020-12-08  6550.0          NaN        0         0              0   \n",
       "4  Prague_1 2020-12-09  6910.0          NaN        0         0              0   \n",
       "\n",
       "   shops_closed  winter_school_holidays  school_holidays  blackout  \\\n",
       "0             0                       0                0         0   \n",
       "1             0                       0                0         0   \n",
       "2             0                       0                0         0   \n",
       "3             0                       0                0         0   \n",
       "4             0                       0                0         0   \n",
       "\n",
       "   mov_change  frankfurt_shutdown  precipitation  snow  user_activity_1  \\\n",
       "0         0.0                   0            0.0   0.0           1722.0   \n",
       "1         0.0                   0            0.0   0.0           1688.0   \n",
       "2         0.0                   0            0.0   0.0           1696.0   \n",
       "3         0.0                   0            0.8   0.0           1681.0   \n",
       "4         0.0                   0            0.5   0.0           1704.0   \n",
       "\n",
       "   user_activity_2                   id  \n",
       "0          32575.0  Prague_1_2020-12-05  \n",
       "1          32507.0  Prague_1_2020-12-06  \n",
       "2          32552.0  Prague_1_2020-12-07  \n",
       "3          32423.0  Prague_1_2020-12-08  \n",
       "4          32410.0  Prague_1_2020-12-09  "
      ],
      "text/html": [
       "<div>\n",
       "<style scoped>\n",
       "    .dataframe tbody tr th:only-of-type {\n",
       "        vertical-align: middle;\n",
       "    }\n",
       "\n",
       "    .dataframe tbody tr th {\n",
       "        vertical-align: top;\n",
       "    }\n",
       "\n",
       "    .dataframe thead th {\n",
       "        text-align: right;\n",
       "    }\n",
       "</style>\n",
       "<table border=\"1\" class=\"dataframe\">\n",
       "  <thead>\n",
       "    <tr style=\"text-align: right;\">\n",
       "      <th></th>\n",
       "      <th>warehouse</th>\n",
       "      <th>date</th>\n",
       "      <th>orders</th>\n",
       "      <th>holiday_name</th>\n",
       "      <th>holiday</th>\n",
       "      <th>shutdown</th>\n",
       "      <th>mini_shutdown</th>\n",
       "      <th>shops_closed</th>\n",
       "      <th>winter_school_holidays</th>\n",
       "      <th>school_holidays</th>\n",
       "      <th>blackout</th>\n",
       "      <th>mov_change</th>\n",
       "      <th>frankfurt_shutdown</th>\n",
       "      <th>precipitation</th>\n",
       "      <th>snow</th>\n",
       "      <th>user_activity_1</th>\n",
       "      <th>user_activity_2</th>\n",
       "      <th>id</th>\n",
       "    </tr>\n",
       "  </thead>\n",
       "  <tbody>\n",
       "    <tr>\n",
       "      <th>0</th>\n",
       "      <td>Prague_1</td>\n",
       "      <td>2020-12-05</td>\n",
       "      <td>6895.0</td>\n",
       "      <td>NaN</td>\n",
       "      <td>0</td>\n",
       "      <td>0</td>\n",
       "      <td>0</td>\n",
       "      <td>0</td>\n",
       "      <td>0</td>\n",
       "      <td>0</td>\n",
       "      <td>0</td>\n",
       "      <td>0.0</td>\n",
       "      <td>0</td>\n",
       "      <td>0.0</td>\n",
       "      <td>0.0</td>\n",
       "      <td>1722.0</td>\n",
       "      <td>32575.0</td>\n",
       "      <td>Prague_1_2020-12-05</td>\n",
       "    </tr>\n",
       "    <tr>\n",
       "      <th>1</th>\n",
       "      <td>Prague_1</td>\n",
       "      <td>2020-12-06</td>\n",
       "      <td>6584.0</td>\n",
       "      <td>NaN</td>\n",
       "      <td>0</td>\n",
       "      <td>0</td>\n",
       "      <td>0</td>\n",
       "      <td>0</td>\n",
       "      <td>0</td>\n",
       "      <td>0</td>\n",
       "      <td>0</td>\n",
       "      <td>0.0</td>\n",
       "      <td>0</td>\n",
       "      <td>0.0</td>\n",
       "      <td>0.0</td>\n",
       "      <td>1688.0</td>\n",
       "      <td>32507.0</td>\n",
       "      <td>Prague_1_2020-12-06</td>\n",
       "    </tr>\n",
       "    <tr>\n",
       "      <th>2</th>\n",
       "      <td>Prague_1</td>\n",
       "      <td>2020-12-07</td>\n",
       "      <td>7030.0</td>\n",
       "      <td>NaN</td>\n",
       "      <td>0</td>\n",
       "      <td>0</td>\n",
       "      <td>0</td>\n",
       "      <td>0</td>\n",
       "      <td>0</td>\n",
       "      <td>0</td>\n",
       "      <td>0</td>\n",
       "      <td>0.0</td>\n",
       "      <td>0</td>\n",
       "      <td>0.0</td>\n",
       "      <td>0.0</td>\n",
       "      <td>1696.0</td>\n",
       "      <td>32552.0</td>\n",
       "      <td>Prague_1_2020-12-07</td>\n",
       "    </tr>\n",
       "    <tr>\n",
       "      <th>3</th>\n",
       "      <td>Prague_1</td>\n",
       "      <td>2020-12-08</td>\n",
       "      <td>6550.0</td>\n",
       "      <td>NaN</td>\n",
       "      <td>0</td>\n",
       "      <td>0</td>\n",
       "      <td>0</td>\n",
       "      <td>0</td>\n",
       "      <td>0</td>\n",
       "      <td>0</td>\n",
       "      <td>0</td>\n",
       "      <td>0.0</td>\n",
       "      <td>0</td>\n",
       "      <td>0.8</td>\n",
       "      <td>0.0</td>\n",
       "      <td>1681.0</td>\n",
       "      <td>32423.0</td>\n",
       "      <td>Prague_1_2020-12-08</td>\n",
       "    </tr>\n",
       "    <tr>\n",
       "      <th>4</th>\n",
       "      <td>Prague_1</td>\n",
       "      <td>2020-12-09</td>\n",
       "      <td>6910.0</td>\n",
       "      <td>NaN</td>\n",
       "      <td>0</td>\n",
       "      <td>0</td>\n",
       "      <td>0</td>\n",
       "      <td>0</td>\n",
       "      <td>0</td>\n",
       "      <td>0</td>\n",
       "      <td>0</td>\n",
       "      <td>0.0</td>\n",
       "      <td>0</td>\n",
       "      <td>0.5</td>\n",
       "      <td>0.0</td>\n",
       "      <td>1704.0</td>\n",
       "      <td>32410.0</td>\n",
       "      <td>Prague_1_2020-12-09</td>\n",
       "    </tr>\n",
       "  </tbody>\n",
       "</table>\n",
       "</div>"
      ]
     },
     "execution_count": 104,
     "metadata": {},
     "output_type": "execute_result"
    }
   ],
   "execution_count": 104
  },
  {
   "cell_type": "code",
   "id": "a3cf11dd8c950f30",
   "metadata": {
    "ExecuteTime": {
     "end_time": "2024-08-16T10:06:48.543128Z",
     "start_time": "2024-08-16T10:06:48.519544Z"
    }
   },
   "source": [
    "df_train_calender.head()"
   ],
   "outputs": [
    {
     "data": {
      "text/plain": [
       "        date holiday_name  holiday  shutdown  mini_shutdown  \\\n",
       "0 2022-03-09          NaN        0         0              0   \n",
       "1 2019-07-03          NaN        0         0              0   \n",
       "2 2020-05-18          NaN        0         0              0   \n",
       "3 2021-11-09          NaN        0         0              0   \n",
       "4 2023-08-02          NaN        0         0              0   \n",
       "\n",
       "   warehouse_limited  shops_closed  winter_school_holidays  school_holidays  \\\n",
       "0                  0             0                       1                0   \n",
       "1                  0             0                       0                0   \n",
       "2                  0             0                       0                0   \n",
       "3                  0             0                       0                0   \n",
       "4                  0             0                       0                0   \n",
       "\n",
       "   blackout  mov_change  frankfurt_shutdown  precipitation  snow warehouse  \n",
       "0         0         0.0                   0            0.0   0.0  Prague_1  \n",
       "1         0         0.0                   0            0.0   0.0  Prague_1  \n",
       "2         0         0.0                   0            0.0   0.0  Prague_1  \n",
       "3         0         0.0                   0            0.0   0.0  Prague_1  \n",
       "4         0         0.0                   0            2.5   0.0  Prague_1  "
      ],
      "text/html": [
       "<div>\n",
       "<style scoped>\n",
       "    .dataframe tbody tr th:only-of-type {\n",
       "        vertical-align: middle;\n",
       "    }\n",
       "\n",
       "    .dataframe tbody tr th {\n",
       "        vertical-align: top;\n",
       "    }\n",
       "\n",
       "    .dataframe thead th {\n",
       "        text-align: right;\n",
       "    }\n",
       "</style>\n",
       "<table border=\"1\" class=\"dataframe\">\n",
       "  <thead>\n",
       "    <tr style=\"text-align: right;\">\n",
       "      <th></th>\n",
       "      <th>date</th>\n",
       "      <th>holiday_name</th>\n",
       "      <th>holiday</th>\n",
       "      <th>shutdown</th>\n",
       "      <th>mini_shutdown</th>\n",
       "      <th>warehouse_limited</th>\n",
       "      <th>shops_closed</th>\n",
       "      <th>winter_school_holidays</th>\n",
       "      <th>school_holidays</th>\n",
       "      <th>blackout</th>\n",
       "      <th>mov_change</th>\n",
       "      <th>frankfurt_shutdown</th>\n",
       "      <th>precipitation</th>\n",
       "      <th>snow</th>\n",
       "      <th>warehouse</th>\n",
       "    </tr>\n",
       "  </thead>\n",
       "  <tbody>\n",
       "    <tr>\n",
       "      <th>0</th>\n",
       "      <td>2022-03-09</td>\n",
       "      <td>NaN</td>\n",
       "      <td>0</td>\n",
       "      <td>0</td>\n",
       "      <td>0</td>\n",
       "      <td>0</td>\n",
       "      <td>0</td>\n",
       "      <td>1</td>\n",
       "      <td>0</td>\n",
       "      <td>0</td>\n",
       "      <td>0.0</td>\n",
       "      <td>0</td>\n",
       "      <td>0.0</td>\n",
       "      <td>0.0</td>\n",
       "      <td>Prague_1</td>\n",
       "    </tr>\n",
       "    <tr>\n",
       "      <th>1</th>\n",
       "      <td>2019-07-03</td>\n",
       "      <td>NaN</td>\n",
       "      <td>0</td>\n",
       "      <td>0</td>\n",
       "      <td>0</td>\n",
       "      <td>0</td>\n",
       "      <td>0</td>\n",
       "      <td>0</td>\n",
       "      <td>0</td>\n",
       "      <td>0</td>\n",
       "      <td>0.0</td>\n",
       "      <td>0</td>\n",
       "      <td>0.0</td>\n",
       "      <td>0.0</td>\n",
       "      <td>Prague_1</td>\n",
       "    </tr>\n",
       "    <tr>\n",
       "      <th>2</th>\n",
       "      <td>2020-05-18</td>\n",
       "      <td>NaN</td>\n",
       "      <td>0</td>\n",
       "      <td>0</td>\n",
       "      <td>0</td>\n",
       "      <td>0</td>\n",
       "      <td>0</td>\n",
       "      <td>0</td>\n",
       "      <td>0</td>\n",
       "      <td>0</td>\n",
       "      <td>0.0</td>\n",
       "      <td>0</td>\n",
       "      <td>0.0</td>\n",
       "      <td>0.0</td>\n",
       "      <td>Prague_1</td>\n",
       "    </tr>\n",
       "    <tr>\n",
       "      <th>3</th>\n",
       "      <td>2021-11-09</td>\n",
       "      <td>NaN</td>\n",
       "      <td>0</td>\n",
       "      <td>0</td>\n",
       "      <td>0</td>\n",
       "      <td>0</td>\n",
       "      <td>0</td>\n",
       "      <td>0</td>\n",
       "      <td>0</td>\n",
       "      <td>0</td>\n",
       "      <td>0.0</td>\n",
       "      <td>0</td>\n",
       "      <td>0.0</td>\n",
       "      <td>0.0</td>\n",
       "      <td>Prague_1</td>\n",
       "    </tr>\n",
       "    <tr>\n",
       "      <th>4</th>\n",
       "      <td>2023-08-02</td>\n",
       "      <td>NaN</td>\n",
       "      <td>0</td>\n",
       "      <td>0</td>\n",
       "      <td>0</td>\n",
       "      <td>0</td>\n",
       "      <td>0</td>\n",
       "      <td>0</td>\n",
       "      <td>0</td>\n",
       "      <td>0</td>\n",
       "      <td>0.0</td>\n",
       "      <td>0</td>\n",
       "      <td>2.5</td>\n",
       "      <td>0.0</td>\n",
       "      <td>Prague_1</td>\n",
       "    </tr>\n",
       "  </tbody>\n",
       "</table>\n",
       "</div>"
      ]
     },
     "execution_count": 105,
     "metadata": {},
     "output_type": "execute_result"
    }
   ],
   "execution_count": 105
  },
  {
   "cell_type": "code",
   "id": "4e5bdd5c74ec5081",
   "metadata": {
    "ExecuteTime": {
     "end_time": "2024-08-16T10:06:48.587927Z",
     "start_time": "2024-08-16T10:06:48.571614Z"
    }
   },
   "source": [
    "df_test.head()"
   ],
   "outputs": [
    {
     "data": {
      "text/plain": [
       "  warehouse       date holiday_name  holiday  shops_closed  \\\n",
       "0  Prague_1 2024-03-16          NaN        0             0   \n",
       "1  Prague_1 2024-03-17          NaN        0             0   \n",
       "2  Prague_1 2024-03-18          NaN        0             0   \n",
       "3  Prague_1 2024-03-19          NaN        0             0   \n",
       "4  Prague_1 2024-03-20          NaN        0             0   \n",
       "\n",
       "   winter_school_holidays  school_holidays                   id  \n",
       "0                       0                0  Prague_1_2024-03-16  \n",
       "1                       0                0  Prague_1_2024-03-17  \n",
       "2                       0                0  Prague_1_2024-03-18  \n",
       "3                       0                0  Prague_1_2024-03-19  \n",
       "4                       0                0  Prague_1_2024-03-20  "
      ],
      "text/html": [
       "<div>\n",
       "<style scoped>\n",
       "    .dataframe tbody tr th:only-of-type {\n",
       "        vertical-align: middle;\n",
       "    }\n",
       "\n",
       "    .dataframe tbody tr th {\n",
       "        vertical-align: top;\n",
       "    }\n",
       "\n",
       "    .dataframe thead th {\n",
       "        text-align: right;\n",
       "    }\n",
       "</style>\n",
       "<table border=\"1\" class=\"dataframe\">\n",
       "  <thead>\n",
       "    <tr style=\"text-align: right;\">\n",
       "      <th></th>\n",
       "      <th>warehouse</th>\n",
       "      <th>date</th>\n",
       "      <th>holiday_name</th>\n",
       "      <th>holiday</th>\n",
       "      <th>shops_closed</th>\n",
       "      <th>winter_school_holidays</th>\n",
       "      <th>school_holidays</th>\n",
       "      <th>id</th>\n",
       "    </tr>\n",
       "  </thead>\n",
       "  <tbody>\n",
       "    <tr>\n",
       "      <th>0</th>\n",
       "      <td>Prague_1</td>\n",
       "      <td>2024-03-16</td>\n",
       "      <td>NaN</td>\n",
       "      <td>0</td>\n",
       "      <td>0</td>\n",
       "      <td>0</td>\n",
       "      <td>0</td>\n",
       "      <td>Prague_1_2024-03-16</td>\n",
       "    </tr>\n",
       "    <tr>\n",
       "      <th>1</th>\n",
       "      <td>Prague_1</td>\n",
       "      <td>2024-03-17</td>\n",
       "      <td>NaN</td>\n",
       "      <td>0</td>\n",
       "      <td>0</td>\n",
       "      <td>0</td>\n",
       "      <td>0</td>\n",
       "      <td>Prague_1_2024-03-17</td>\n",
       "    </tr>\n",
       "    <tr>\n",
       "      <th>2</th>\n",
       "      <td>Prague_1</td>\n",
       "      <td>2024-03-18</td>\n",
       "      <td>NaN</td>\n",
       "      <td>0</td>\n",
       "      <td>0</td>\n",
       "      <td>0</td>\n",
       "      <td>0</td>\n",
       "      <td>Prague_1_2024-03-18</td>\n",
       "    </tr>\n",
       "    <tr>\n",
       "      <th>3</th>\n",
       "      <td>Prague_1</td>\n",
       "      <td>2024-03-19</td>\n",
       "      <td>NaN</td>\n",
       "      <td>0</td>\n",
       "      <td>0</td>\n",
       "      <td>0</td>\n",
       "      <td>0</td>\n",
       "      <td>Prague_1_2024-03-19</td>\n",
       "    </tr>\n",
       "    <tr>\n",
       "      <th>4</th>\n",
       "      <td>Prague_1</td>\n",
       "      <td>2024-03-20</td>\n",
       "      <td>NaN</td>\n",
       "      <td>0</td>\n",
       "      <td>0</td>\n",
       "      <td>0</td>\n",
       "      <td>0</td>\n",
       "      <td>Prague_1_2024-03-20</td>\n",
       "    </tr>\n",
       "  </tbody>\n",
       "</table>\n",
       "</div>"
      ]
     },
     "execution_count": 106,
     "metadata": {},
     "output_type": "execute_result"
    }
   ],
   "execution_count": 106
  },
  {
   "cell_type": "code",
   "id": "5d5f02662d740193",
   "metadata": {
    "ExecuteTime": {
     "end_time": "2024-08-16T10:06:48.644195Z",
     "start_time": "2024-08-16T10:06:48.613232Z"
    }
   },
   "source": [
    "df_test_calender.head()"
   ],
   "outputs": [
    {
     "data": {
      "text/plain": [
       "        date                      holiday_name  holiday  shops_closed  \\\n",
       "0 2024-11-17  Den boje za svobodu a demokracii        1             0   \n",
       "1 2024-07-04                               NaN        0             0   \n",
       "2 2024-08-04                               NaN        0             0   \n",
       "3 2024-12-01                               NaN        0             0   \n",
       "4 2024-07-24                               NaN        0             0   \n",
       "\n",
       "   winter_school_holidays  school_holidays warehouse  \n",
       "0                       0                0  Prague_1  \n",
       "1                       0                0  Prague_1  \n",
       "2                       0                0  Prague_1  \n",
       "3                       0                0  Prague_1  \n",
       "4                       0                0  Prague_1  "
      ],
      "text/html": [
       "<div>\n",
       "<style scoped>\n",
       "    .dataframe tbody tr th:only-of-type {\n",
       "        vertical-align: middle;\n",
       "    }\n",
       "\n",
       "    .dataframe tbody tr th {\n",
       "        vertical-align: top;\n",
       "    }\n",
       "\n",
       "    .dataframe thead th {\n",
       "        text-align: right;\n",
       "    }\n",
       "</style>\n",
       "<table border=\"1\" class=\"dataframe\">\n",
       "  <thead>\n",
       "    <tr style=\"text-align: right;\">\n",
       "      <th></th>\n",
       "      <th>date</th>\n",
       "      <th>holiday_name</th>\n",
       "      <th>holiday</th>\n",
       "      <th>shops_closed</th>\n",
       "      <th>winter_school_holidays</th>\n",
       "      <th>school_holidays</th>\n",
       "      <th>warehouse</th>\n",
       "    </tr>\n",
       "  </thead>\n",
       "  <tbody>\n",
       "    <tr>\n",
       "      <th>0</th>\n",
       "      <td>2024-11-17</td>\n",
       "      <td>Den boje za svobodu a demokracii</td>\n",
       "      <td>1</td>\n",
       "      <td>0</td>\n",
       "      <td>0</td>\n",
       "      <td>0</td>\n",
       "      <td>Prague_1</td>\n",
       "    </tr>\n",
       "    <tr>\n",
       "      <th>1</th>\n",
       "      <td>2024-07-04</td>\n",
       "      <td>NaN</td>\n",
       "      <td>0</td>\n",
       "      <td>0</td>\n",
       "      <td>0</td>\n",
       "      <td>0</td>\n",
       "      <td>Prague_1</td>\n",
       "    </tr>\n",
       "    <tr>\n",
       "      <th>2</th>\n",
       "      <td>2024-08-04</td>\n",
       "      <td>NaN</td>\n",
       "      <td>0</td>\n",
       "      <td>0</td>\n",
       "      <td>0</td>\n",
       "      <td>0</td>\n",
       "      <td>Prague_1</td>\n",
       "    </tr>\n",
       "    <tr>\n",
       "      <th>3</th>\n",
       "      <td>2024-12-01</td>\n",
       "      <td>NaN</td>\n",
       "      <td>0</td>\n",
       "      <td>0</td>\n",
       "      <td>0</td>\n",
       "      <td>0</td>\n",
       "      <td>Prague_1</td>\n",
       "    </tr>\n",
       "    <tr>\n",
       "      <th>4</th>\n",
       "      <td>2024-07-24</td>\n",
       "      <td>NaN</td>\n",
       "      <td>0</td>\n",
       "      <td>0</td>\n",
       "      <td>0</td>\n",
       "      <td>0</td>\n",
       "      <td>Prague_1</td>\n",
       "    </tr>\n",
       "  </tbody>\n",
       "</table>\n",
       "</div>"
      ]
     },
     "execution_count": 107,
     "metadata": {},
     "output_type": "execute_result"
    }
   ],
   "execution_count": 107
  },
  {
   "cell_type": "markdown",
   "id": "7a00aaf939a5cae",
   "metadata": {},
   "source": [
    "### Preprocessing"
   ]
  },
  {
   "cell_type": "markdown",
   "id": "e06f13296e4f29bf",
   "metadata": {},
   "source": [
    "#### Delete unnecessary columns and save test ids to 'test_ids'"
   ]
  },
  {
   "cell_type": "code",
   "id": "176b8414f7ca658b",
   "metadata": {
    "ExecuteTime": {
     "end_time": "2024-08-16T10:06:48.724780Z",
     "start_time": "2024-08-16T10:06:48.716296Z"
    }
   },
   "source": [
    "df_train_essence = df_train.drop(columns=['shutdown', 'mini_shutdown', 'blackout', 'mov_change', 'frankfurt_shutdown', 'precipitation', 'snow', 'user_activity_1', 'user_activity_2', 'id'])"
   ],
   "outputs": [],
   "execution_count": 108
  },
  {
   "cell_type": "code",
   "id": "205120d8e1723156",
   "metadata": {
    "ExecuteTime": {
     "end_time": "2024-08-16T10:06:48.808300Z",
     "start_time": "2024-08-16T10:06:48.794003Z"
    }
   },
   "source": [
    "df_train_calender_essence = df_train_calender.drop(columns=['shutdown', 'mini_shutdown', 'warehouse_limited', 'blackout', 'mov_change', 'frankfurt_shutdown', 'precipitation', 'snow'])"
   ],
   "outputs": [],
   "execution_count": 109
  },
  {
   "cell_type": "code",
   "id": "7b3810cd227b9bf",
   "metadata": {
    "ExecuteTime": {
     "end_time": "2024-08-16T10:06:48.988171Z",
     "start_time": "2024-08-16T10:06:48.982315Z"
    }
   },
   "source": [
    "# df_test_essence = df_test.drop(columns=['id'])\n",
    "# test_ids = df_test['id'].copy()\n",
    "df_test_essence = df_test"
   ],
   "outputs": [],
   "execution_count": 110
  },
  {
   "cell_type": "code",
   "id": "5f287aa990af70aa",
   "metadata": {
    "ExecuteTime": {
     "end_time": "2024-08-16T10:06:49.140046Z",
     "start_time": "2024-08-16T10:06:49.134975Z"
    }
   },
   "source": [
    "df_test_calender_essence = df_test_calender"
   ],
   "outputs": [],
   "execution_count": 111
  },
  {
   "cell_type": "markdown",
   "id": "849f4531446db319",
   "metadata": {},
   "source": [
    "#### Combine train and test with their calenders respectively & add unrepresented dates"
   ]
  },
  {
   "cell_type": "code",
   "id": "f0317c7d08eb9867",
   "metadata": {
    "ExecuteTime": {
     "end_time": "2024-08-16T10:06:49.324399Z",
     "start_time": "2024-08-16T10:06:49.312805Z"
    }
   },
   "source": [
    "# Once for train\n",
    "df_train_essence.shape"
   ],
   "outputs": [
    {
     "data": {
      "text/plain": [
       "(7340, 8)"
      ]
     },
     "execution_count": 112,
     "metadata": {},
     "output_type": "execute_result"
    }
   ],
   "execution_count": 112
  },
  {
   "cell_type": "code",
   "id": "55b35ddbfd38edb8",
   "metadata": {
    "ExecuteTime": {
     "end_time": "2024-08-16T10:06:49.354072Z",
     "start_time": "2024-08-16T10:06:49.346302Z"
    }
   },
   "source": [
    "df_train_calender_essence.shape"
   ],
   "outputs": [
    {
     "data": {
      "text/plain": [
       "(13307, 7)"
      ]
     },
     "execution_count": 113,
     "metadata": {},
     "output_type": "execute_result"
    }
   ],
   "execution_count": 113
  },
  {
   "cell_type": "code",
   "id": "6b8ef09682008912",
   "metadata": {
    "ExecuteTime": {
     "end_time": "2024-08-16T10:06:49.511633Z",
     "start_time": "2024-08-16T10:06:49.436758Z"
    }
   },
   "source": [
    "# For training data\n",
    "# Identify common columns, ensuring 'date' and 'warehouse' are included\n",
    "common_cols = list(set(df_train_essence.columns) & set(df_train_calender_essence.columns))\n",
    "if 'date' not in common_cols:\n",
    "    common_cols.append('date')\n",
    "if 'warehouse' not in common_cols:\n",
    "    common_cols.append('warehouse')\n",
    "\n",
    "# Identify columns unique to calendar data\n",
    "calendar_unique_cols = list(set(df_train_calender_essence.columns) - set(df_train_essence.columns))\n",
    "\n",
    "# Merge on common columns, including date and warehouse\n",
    "df_train_combined = pd.merge(df_train_essence, \n",
    "                             df_train_calender_essence[common_cols + calendar_unique_cols],\n",
    "                             on=common_cols,\n",
    "                             how='outer')\n",
    "\n",
    "# For test data\n",
    "# Repeat the process\n",
    "common_cols_test = list(set(df_test_essence.columns) & set(df_test_calender_essence.columns))\n",
    "if 'date' not in common_cols_test:\n",
    "    common_cols_test.append('date')\n",
    "if 'warehouse' not in common_cols_test:\n",
    "    common_cols_test.append('warehouse')\n",
    "\n",
    "calendar_unique_cols_test = list(set(df_test_calender_essence.columns) - set(df_test_essence.columns))\n",
    "\n",
    "df_test_combined = pd.merge(df_test_essence, \n",
    "                            df_test_calender_essence[common_cols_test + calendar_unique_cols_test],\n",
    "                            on=common_cols_test,\n",
    "                            how='outer')"
   ],
   "outputs": [],
   "execution_count": 114
  },
  {
   "cell_type": "code",
   "id": "f6ffa92d6ea4648b",
   "metadata": {
    "ExecuteTime": {
     "end_time": "2024-08-16T10:06:49.528060Z",
     "start_time": "2024-08-16T10:06:49.520716Z"
    }
   },
   "source": [
    "df_train_combined['orders'].isna().sum()"
   ],
   "outputs": [
    {
     "data": {
      "text/plain": [
       "5967"
      ]
     },
     "execution_count": 115,
     "metadata": {},
     "output_type": "execute_result"
    }
   ],
   "execution_count": 115
  },
  {
   "cell_type": "code",
   "id": "22d0614eaaf99fe9",
   "metadata": {
    "ExecuteTime": {
     "end_time": "2024-08-16T10:06:49.558288Z",
     "start_time": "2024-08-16T10:06:49.550173Z"
    }
   },
   "source": [
    "df_train_combined.shape"
   ],
   "outputs": [
    {
     "data": {
      "text/plain": [
       "(13307, 8)"
      ]
     },
     "execution_count": 116,
     "metadata": {},
     "output_type": "execute_result"
    }
   ],
   "execution_count": 116
  },
  {
   "cell_type": "code",
   "id": "5f918331d6736058",
   "metadata": {
    "ExecuteTime": {
     "end_time": "2024-08-16T10:06:49.634337Z",
     "start_time": "2024-08-16T10:06:49.626010Z"
    }
   },
   "source": [
    "df_test_combined.shape"
   ],
   "outputs": [
    {
     "data": {
      "text/plain": [
       "(1869, 8)"
      ]
     },
     "execution_count": 117,
     "metadata": {},
     "output_type": "execute_result"
    }
   ],
   "execution_count": 117
  },
  {
   "cell_type": "code",
   "id": "a0a9e8ba6fcd6fac",
   "metadata": {
    "ExecuteTime": {
     "end_time": "2024-08-16T10:06:49.677772Z",
     "start_time": "2024-08-16T10:06:49.663566Z"
    }
   },
   "source": [
    "df_test_combined.head()"
   ],
   "outputs": [
    {
     "data": {
      "text/plain": [
       "  warehouse       date holiday_name  holiday  shops_closed  \\\n",
       "0  Prague_1 2024-03-16          NaN        0             0   \n",
       "1  Prague_1 2024-03-17          NaN        0             0   \n",
       "2  Prague_1 2024-03-18          NaN        0             0   \n",
       "3  Prague_1 2024-03-19          NaN        0             0   \n",
       "4  Prague_1 2024-03-20          NaN        0             0   \n",
       "\n",
       "   winter_school_holidays  school_holidays                   id  \n",
       "0                       0                0  Prague_1_2024-03-16  \n",
       "1                       0                0  Prague_1_2024-03-17  \n",
       "2                       0                0  Prague_1_2024-03-18  \n",
       "3                       0                0  Prague_1_2024-03-19  \n",
       "4                       0                0  Prague_1_2024-03-20  "
      ],
      "text/html": [
       "<div>\n",
       "<style scoped>\n",
       "    .dataframe tbody tr th:only-of-type {\n",
       "        vertical-align: middle;\n",
       "    }\n",
       "\n",
       "    .dataframe tbody tr th {\n",
       "        vertical-align: top;\n",
       "    }\n",
       "\n",
       "    .dataframe thead th {\n",
       "        text-align: right;\n",
       "    }\n",
       "</style>\n",
       "<table border=\"1\" class=\"dataframe\">\n",
       "  <thead>\n",
       "    <tr style=\"text-align: right;\">\n",
       "      <th></th>\n",
       "      <th>warehouse</th>\n",
       "      <th>date</th>\n",
       "      <th>holiday_name</th>\n",
       "      <th>holiday</th>\n",
       "      <th>shops_closed</th>\n",
       "      <th>winter_school_holidays</th>\n",
       "      <th>school_holidays</th>\n",
       "      <th>id</th>\n",
       "    </tr>\n",
       "  </thead>\n",
       "  <tbody>\n",
       "    <tr>\n",
       "      <th>0</th>\n",
       "      <td>Prague_1</td>\n",
       "      <td>2024-03-16</td>\n",
       "      <td>NaN</td>\n",
       "      <td>0</td>\n",
       "      <td>0</td>\n",
       "      <td>0</td>\n",
       "      <td>0</td>\n",
       "      <td>Prague_1_2024-03-16</td>\n",
       "    </tr>\n",
       "    <tr>\n",
       "      <th>1</th>\n",
       "      <td>Prague_1</td>\n",
       "      <td>2024-03-17</td>\n",
       "      <td>NaN</td>\n",
       "      <td>0</td>\n",
       "      <td>0</td>\n",
       "      <td>0</td>\n",
       "      <td>0</td>\n",
       "      <td>Prague_1_2024-03-17</td>\n",
       "    </tr>\n",
       "    <tr>\n",
       "      <th>2</th>\n",
       "      <td>Prague_1</td>\n",
       "      <td>2024-03-18</td>\n",
       "      <td>NaN</td>\n",
       "      <td>0</td>\n",
       "      <td>0</td>\n",
       "      <td>0</td>\n",
       "      <td>0</td>\n",
       "      <td>Prague_1_2024-03-18</td>\n",
       "    </tr>\n",
       "    <tr>\n",
       "      <th>3</th>\n",
       "      <td>Prague_1</td>\n",
       "      <td>2024-03-19</td>\n",
       "      <td>NaN</td>\n",
       "      <td>0</td>\n",
       "      <td>0</td>\n",
       "      <td>0</td>\n",
       "      <td>0</td>\n",
       "      <td>Prague_1_2024-03-19</td>\n",
       "    </tr>\n",
       "    <tr>\n",
       "      <th>4</th>\n",
       "      <td>Prague_1</td>\n",
       "      <td>2024-03-20</td>\n",
       "      <td>NaN</td>\n",
       "      <td>0</td>\n",
       "      <td>0</td>\n",
       "      <td>0</td>\n",
       "      <td>0</td>\n",
       "      <td>Prague_1_2024-03-20</td>\n",
       "    </tr>\n",
       "  </tbody>\n",
       "</table>\n",
       "</div>"
      ]
     },
     "execution_count": 118,
     "metadata": {},
     "output_type": "execute_result"
    }
   ],
   "execution_count": 118
  },
  {
   "cell_type": "markdown",
   "id": "4511a47f1713a7da",
   "metadata": {},
   "source": [
    "#### Combine df_train and df_test into df_combined"
   ]
  },
  {
   "cell_type": "code",
   "id": "bb939208d6f3690",
   "metadata": {
    "ExecuteTime": {
     "end_time": "2024-08-16T10:06:49.701784Z",
     "start_time": "2024-08-16T10:06:49.689363Z"
    }
   },
   "source": [
    "# Save use for later\n",
    "df_train_combined['original_index'] = np.arange(len(df_train_combined))\n",
    "df_test_combined['original_index'] = np.arange(len(df_test_combined))\n",
    "\n",
    "df_train_combined['data_source'] = 'train'\n",
    "df_test_combined['data_source'] = 'test'\n",
    "\n",
    "df_combined = pd.concat([df_train_combined, df_test_combined], sort=False)"
   ],
   "outputs": [],
   "execution_count": 119
  },
  {
   "cell_type": "code",
   "id": "7437c9e998c89385",
   "metadata": {
    "ExecuteTime": {
     "end_time": "2024-08-16T10:06:49.745699Z",
     "start_time": "2024-08-16T10:06:49.725964Z"
    }
   },
   "source": [
    "df_combined.head(20647)"
   ],
   "outputs": [
    {
     "data": {
      "text/plain": [
       "       warehouse       date  orders          holiday_name  holiday  \\\n",
       "0       Prague_1 2020-12-05  6895.0                   NaN        0   \n",
       "1       Prague_1 2020-12-06  6584.0                   NaN        0   \n",
       "2       Prague_1 2020-12-07  7030.0                   NaN        0   \n",
       "3       Prague_1 2020-12-08  6550.0                   NaN        0   \n",
       "4       Prague_1 2020-12-09  6910.0                   NaN        0   \n",
       "...          ...        ...     ...                   ...      ...   \n",
       "1864  Budapest_1 2024-09-07     NaN                   NaN        0   \n",
       "1865  Budapest_1 2024-08-16     NaN                   NaN        0   \n",
       "1866  Budapest_1 2024-08-20     NaN  State Foundation Day        1   \n",
       "1867  Budapest_1 2024-05-21     NaN  National Defense Day        0   \n",
       "1868  Budapest_1 2024-05-17     NaN                   NaN        0   \n",
       "\n",
       "      shops_closed  winter_school_holidays  school_holidays  original_index  \\\n",
       "0                0                       0                0               0   \n",
       "1                0                       0                0               1   \n",
       "2                0                       0                0               2   \n",
       "3                0                       0                0               3   \n",
       "4                0                       0                0               4   \n",
       "...            ...                     ...              ...             ...   \n",
       "1864             0                       0                0            1864   \n",
       "1865             0                       0                0            1865   \n",
       "1866             1                       0                0            1866   \n",
       "1867             0                       0                0            1867   \n",
       "1868             0                       0                0            1868   \n",
       "\n",
       "     data_source   id  \n",
       "0          train  NaN  \n",
       "1          train  NaN  \n",
       "2          train  NaN  \n",
       "3          train  NaN  \n",
       "4          train  NaN  \n",
       "...          ...  ...  \n",
       "1864        test  NaN  \n",
       "1865        test  NaN  \n",
       "1866        test  NaN  \n",
       "1867        test  NaN  \n",
       "1868        test  NaN  \n",
       "\n",
       "[15176 rows x 11 columns]"
      ],
      "text/html": [
       "<div>\n",
       "<style scoped>\n",
       "    .dataframe tbody tr th:only-of-type {\n",
       "        vertical-align: middle;\n",
       "    }\n",
       "\n",
       "    .dataframe tbody tr th {\n",
       "        vertical-align: top;\n",
       "    }\n",
       "\n",
       "    .dataframe thead th {\n",
       "        text-align: right;\n",
       "    }\n",
       "</style>\n",
       "<table border=\"1\" class=\"dataframe\">\n",
       "  <thead>\n",
       "    <tr style=\"text-align: right;\">\n",
       "      <th></th>\n",
       "      <th>warehouse</th>\n",
       "      <th>date</th>\n",
       "      <th>orders</th>\n",
       "      <th>holiday_name</th>\n",
       "      <th>holiday</th>\n",
       "      <th>shops_closed</th>\n",
       "      <th>winter_school_holidays</th>\n",
       "      <th>school_holidays</th>\n",
       "      <th>original_index</th>\n",
       "      <th>data_source</th>\n",
       "      <th>id</th>\n",
       "    </tr>\n",
       "  </thead>\n",
       "  <tbody>\n",
       "    <tr>\n",
       "      <th>0</th>\n",
       "      <td>Prague_1</td>\n",
       "      <td>2020-12-05</td>\n",
       "      <td>6895.0</td>\n",
       "      <td>NaN</td>\n",
       "      <td>0</td>\n",
       "      <td>0</td>\n",
       "      <td>0</td>\n",
       "      <td>0</td>\n",
       "      <td>0</td>\n",
       "      <td>train</td>\n",
       "      <td>NaN</td>\n",
       "    </tr>\n",
       "    <tr>\n",
       "      <th>1</th>\n",
       "      <td>Prague_1</td>\n",
       "      <td>2020-12-06</td>\n",
       "      <td>6584.0</td>\n",
       "      <td>NaN</td>\n",
       "      <td>0</td>\n",
       "      <td>0</td>\n",
       "      <td>0</td>\n",
       "      <td>0</td>\n",
       "      <td>1</td>\n",
       "      <td>train</td>\n",
       "      <td>NaN</td>\n",
       "    </tr>\n",
       "    <tr>\n",
       "      <th>2</th>\n",
       "      <td>Prague_1</td>\n",
       "      <td>2020-12-07</td>\n",
       "      <td>7030.0</td>\n",
       "      <td>NaN</td>\n",
       "      <td>0</td>\n",
       "      <td>0</td>\n",
       "      <td>0</td>\n",
       "      <td>0</td>\n",
       "      <td>2</td>\n",
       "      <td>train</td>\n",
       "      <td>NaN</td>\n",
       "    </tr>\n",
       "    <tr>\n",
       "      <th>3</th>\n",
       "      <td>Prague_1</td>\n",
       "      <td>2020-12-08</td>\n",
       "      <td>6550.0</td>\n",
       "      <td>NaN</td>\n",
       "      <td>0</td>\n",
       "      <td>0</td>\n",
       "      <td>0</td>\n",
       "      <td>0</td>\n",
       "      <td>3</td>\n",
       "      <td>train</td>\n",
       "      <td>NaN</td>\n",
       "    </tr>\n",
       "    <tr>\n",
       "      <th>4</th>\n",
       "      <td>Prague_1</td>\n",
       "      <td>2020-12-09</td>\n",
       "      <td>6910.0</td>\n",
       "      <td>NaN</td>\n",
       "      <td>0</td>\n",
       "      <td>0</td>\n",
       "      <td>0</td>\n",
       "      <td>0</td>\n",
       "      <td>4</td>\n",
       "      <td>train</td>\n",
       "      <td>NaN</td>\n",
       "    </tr>\n",
       "    <tr>\n",
       "      <th>...</th>\n",
       "      <td>...</td>\n",
       "      <td>...</td>\n",
       "      <td>...</td>\n",
       "      <td>...</td>\n",
       "      <td>...</td>\n",
       "      <td>...</td>\n",
       "      <td>...</td>\n",
       "      <td>...</td>\n",
       "      <td>...</td>\n",
       "      <td>...</td>\n",
       "      <td>...</td>\n",
       "    </tr>\n",
       "    <tr>\n",
       "      <th>1864</th>\n",
       "      <td>Budapest_1</td>\n",
       "      <td>2024-09-07</td>\n",
       "      <td>NaN</td>\n",
       "      <td>NaN</td>\n",
       "      <td>0</td>\n",
       "      <td>0</td>\n",
       "      <td>0</td>\n",
       "      <td>0</td>\n",
       "      <td>1864</td>\n",
       "      <td>test</td>\n",
       "      <td>NaN</td>\n",
       "    </tr>\n",
       "    <tr>\n",
       "      <th>1865</th>\n",
       "      <td>Budapest_1</td>\n",
       "      <td>2024-08-16</td>\n",
       "      <td>NaN</td>\n",
       "      <td>NaN</td>\n",
       "      <td>0</td>\n",
       "      <td>0</td>\n",
       "      <td>0</td>\n",
       "      <td>0</td>\n",
       "      <td>1865</td>\n",
       "      <td>test</td>\n",
       "      <td>NaN</td>\n",
       "    </tr>\n",
       "    <tr>\n",
       "      <th>1866</th>\n",
       "      <td>Budapest_1</td>\n",
       "      <td>2024-08-20</td>\n",
       "      <td>NaN</td>\n",
       "      <td>State Foundation Day</td>\n",
       "      <td>1</td>\n",
       "      <td>1</td>\n",
       "      <td>0</td>\n",
       "      <td>0</td>\n",
       "      <td>1866</td>\n",
       "      <td>test</td>\n",
       "      <td>NaN</td>\n",
       "    </tr>\n",
       "    <tr>\n",
       "      <th>1867</th>\n",
       "      <td>Budapest_1</td>\n",
       "      <td>2024-05-21</td>\n",
       "      <td>NaN</td>\n",
       "      <td>National Defense Day</td>\n",
       "      <td>0</td>\n",
       "      <td>0</td>\n",
       "      <td>0</td>\n",
       "      <td>0</td>\n",
       "      <td>1867</td>\n",
       "      <td>test</td>\n",
       "      <td>NaN</td>\n",
       "    </tr>\n",
       "    <tr>\n",
       "      <th>1868</th>\n",
       "      <td>Budapest_1</td>\n",
       "      <td>2024-05-17</td>\n",
       "      <td>NaN</td>\n",
       "      <td>NaN</td>\n",
       "      <td>0</td>\n",
       "      <td>0</td>\n",
       "      <td>0</td>\n",
       "      <td>0</td>\n",
       "      <td>1868</td>\n",
       "      <td>test</td>\n",
       "      <td>NaN</td>\n",
       "    </tr>\n",
       "  </tbody>\n",
       "</table>\n",
       "<p>15176 rows × 11 columns</p>\n",
       "</div>"
      ]
     },
     "execution_count": 120,
     "metadata": {},
     "output_type": "execute_result"
    }
   ],
   "execution_count": 120
  },
  {
   "cell_type": "code",
   "id": "5515849bcd84b558",
   "metadata": {
    "ExecuteTime": {
     "end_time": "2024-08-16T10:06:49.755777Z",
     "start_time": "2024-08-16T10:06:49.750908Z"
    }
   },
   "source": [
    "df_combined.shape"
   ],
   "outputs": [
    {
     "data": {
      "text/plain": [
       "(15176, 11)"
      ]
     },
     "execution_count": 121,
     "metadata": {},
     "output_type": "execute_result"
    }
   ],
   "execution_count": 121
  },
  {
   "cell_type": "code",
   "id": "848f70a12a8d7813",
   "metadata": {
    "ExecuteTime": {
     "end_time": "2024-08-16T10:06:49.851377Z",
     "start_time": "2024-08-16T10:06:49.843913Z"
    }
   },
   "source": [
    "df_combined['orders'].isna().sum()"
   ],
   "outputs": [
    {
     "data": {
      "text/plain": [
       "7836"
      ]
     },
     "execution_count": 122,
     "metadata": {},
     "output_type": "execute_result"
    }
   ],
   "execution_count": 122
  },
  {
   "cell_type": "code",
   "id": "3e7c1d91fc4bc773",
   "metadata": {
    "ExecuteTime": {
     "end_time": "2024-08-16T10:06:49.867815Z",
     "start_time": "2024-08-16T10:06:49.862046Z"
    }
   },
   "source": [
    "15176-7340"
   ],
   "outputs": [
    {
     "data": {
      "text/plain": [
       "7836"
      ]
     },
     "execution_count": 123,
     "metadata": {},
     "output_type": "execute_result"
    }
   ],
   "execution_count": 123
  },
  {
   "cell_type": "markdown",
   "id": "5596069ac33176e2",
   "metadata": {},
   "source": [
    "#### Process date column"
   ]
  },
  {
   "cell_type": "code",
   "id": "ebd992119b9ec12b",
   "metadata": {
    "ExecuteTime": {
     "end_time": "2024-08-16T10:06:49.937723Z",
     "start_time": "2024-08-16T10:06:49.896881Z"
    }
   },
   "source": [
    "# Make some more date features\n",
    "df_combined['date'] = pd.to_datetime(df_combined['date'], errors='coerce')\n",
    "\n",
    "# Time-based features\n",
    "df_combined['date_year'] = df_combined['date'].dt.year.fillna(-1)\n",
    "df_combined['date_month'] = df_combined['date'].dt.month.fillna(-1)\n",
    "df_combined['date_day'] = df_combined['date'].dt.day.fillna(-1)\n",
    "df_combined['date_day_of_week'] = df_combined['date'].dt.dayofweek.fillna(-1)\n",
    "df_combined['date_week_of_year'] = df_combined['date'].dt.isocalendar().week.fillna(-1)\n",
    "df_combined['date_day_of_year'] = df_combined['date'].dt.dayofyear.fillna(-1)\n",
    "df_combined['date_quarter'] = df_combined['date'].dt.quarter.fillna(-1)\n",
    "df_combined['date_is_month_start'] = df_combined['date'].dt.is_month_start.astype(int).fillna(-1)\n",
    "df_combined['date_is_month_end'] = df_combined['date'].dt.is_month_end.astype(int).fillna(-1)\n",
    "df_combined['date_is_quarter_start'] = df_combined['date'].dt.is_quarter_start.astype(int).fillna(-1)\n",
    "df_combined['date_is_quarter_end'] = df_combined['date'].dt.is_quarter_end.astype(int).fillna(-1)"
   ],
   "outputs": [],
   "execution_count": 124
  },
  {
   "cell_type": "code",
   "id": "e3fcc8eb42b253a1",
   "metadata": {
    "ExecuteTime": {
     "end_time": "2024-08-16T10:06:49.963123Z",
     "start_time": "2024-08-16T10:06:49.940151Z"
    }
   },
   "source": [
    "df_combined.head()"
   ],
   "outputs": [
    {
     "data": {
      "text/plain": [
       "  warehouse       date  orders holiday_name  holiday  shops_closed  \\\n",
       "0  Prague_1 2020-12-05  6895.0          NaN        0             0   \n",
       "1  Prague_1 2020-12-06  6584.0          NaN        0             0   \n",
       "2  Prague_1 2020-12-07  7030.0          NaN        0             0   \n",
       "3  Prague_1 2020-12-08  6550.0          NaN        0             0   \n",
       "4  Prague_1 2020-12-09  6910.0          NaN        0             0   \n",
       "\n",
       "   winter_school_holidays  school_holidays  original_index data_source  ...  \\\n",
       "0                       0                0               0       train  ...   \n",
       "1                       0                0               1       train  ...   \n",
       "2                       0                0               2       train  ...   \n",
       "3                       0                0               3       train  ...   \n",
       "4                       0                0               4       train  ...   \n",
       "\n",
       "  date_month  date_day  date_day_of_week  date_week_of_year  date_day_of_year  \\\n",
       "0         12         5                 5                 49               340   \n",
       "1         12         6                 6                 49               341   \n",
       "2         12         7                 0                 50               342   \n",
       "3         12         8                 1                 50               343   \n",
       "4         12         9                 2                 50               344   \n",
       "\n",
       "   date_quarter  date_is_month_start  date_is_month_end  \\\n",
       "0             4                    0                  0   \n",
       "1             4                    0                  0   \n",
       "2             4                    0                  0   \n",
       "3             4                    0                  0   \n",
       "4             4                    0                  0   \n",
       "\n",
       "   date_is_quarter_start  date_is_quarter_end  \n",
       "0                      0                    0  \n",
       "1                      0                    0  \n",
       "2                      0                    0  \n",
       "3                      0                    0  \n",
       "4                      0                    0  \n",
       "\n",
       "[5 rows x 22 columns]"
      ],
      "text/html": [
       "<div>\n",
       "<style scoped>\n",
       "    .dataframe tbody tr th:only-of-type {\n",
       "        vertical-align: middle;\n",
       "    }\n",
       "\n",
       "    .dataframe tbody tr th {\n",
       "        vertical-align: top;\n",
       "    }\n",
       "\n",
       "    .dataframe thead th {\n",
       "        text-align: right;\n",
       "    }\n",
       "</style>\n",
       "<table border=\"1\" class=\"dataframe\">\n",
       "  <thead>\n",
       "    <tr style=\"text-align: right;\">\n",
       "      <th></th>\n",
       "      <th>warehouse</th>\n",
       "      <th>date</th>\n",
       "      <th>orders</th>\n",
       "      <th>holiday_name</th>\n",
       "      <th>holiday</th>\n",
       "      <th>shops_closed</th>\n",
       "      <th>winter_school_holidays</th>\n",
       "      <th>school_holidays</th>\n",
       "      <th>original_index</th>\n",
       "      <th>data_source</th>\n",
       "      <th>...</th>\n",
       "      <th>date_month</th>\n",
       "      <th>date_day</th>\n",
       "      <th>date_day_of_week</th>\n",
       "      <th>date_week_of_year</th>\n",
       "      <th>date_day_of_year</th>\n",
       "      <th>date_quarter</th>\n",
       "      <th>date_is_month_start</th>\n",
       "      <th>date_is_month_end</th>\n",
       "      <th>date_is_quarter_start</th>\n",
       "      <th>date_is_quarter_end</th>\n",
       "    </tr>\n",
       "  </thead>\n",
       "  <tbody>\n",
       "    <tr>\n",
       "      <th>0</th>\n",
       "      <td>Prague_1</td>\n",
       "      <td>2020-12-05</td>\n",
       "      <td>6895.0</td>\n",
       "      <td>NaN</td>\n",
       "      <td>0</td>\n",
       "      <td>0</td>\n",
       "      <td>0</td>\n",
       "      <td>0</td>\n",
       "      <td>0</td>\n",
       "      <td>train</td>\n",
       "      <td>...</td>\n",
       "      <td>12</td>\n",
       "      <td>5</td>\n",
       "      <td>5</td>\n",
       "      <td>49</td>\n",
       "      <td>340</td>\n",
       "      <td>4</td>\n",
       "      <td>0</td>\n",
       "      <td>0</td>\n",
       "      <td>0</td>\n",
       "      <td>0</td>\n",
       "    </tr>\n",
       "    <tr>\n",
       "      <th>1</th>\n",
       "      <td>Prague_1</td>\n",
       "      <td>2020-12-06</td>\n",
       "      <td>6584.0</td>\n",
       "      <td>NaN</td>\n",
       "      <td>0</td>\n",
       "      <td>0</td>\n",
       "      <td>0</td>\n",
       "      <td>0</td>\n",
       "      <td>1</td>\n",
       "      <td>train</td>\n",
       "      <td>...</td>\n",
       "      <td>12</td>\n",
       "      <td>6</td>\n",
       "      <td>6</td>\n",
       "      <td>49</td>\n",
       "      <td>341</td>\n",
       "      <td>4</td>\n",
       "      <td>0</td>\n",
       "      <td>0</td>\n",
       "      <td>0</td>\n",
       "      <td>0</td>\n",
       "    </tr>\n",
       "    <tr>\n",
       "      <th>2</th>\n",
       "      <td>Prague_1</td>\n",
       "      <td>2020-12-07</td>\n",
       "      <td>7030.0</td>\n",
       "      <td>NaN</td>\n",
       "      <td>0</td>\n",
       "      <td>0</td>\n",
       "      <td>0</td>\n",
       "      <td>0</td>\n",
       "      <td>2</td>\n",
       "      <td>train</td>\n",
       "      <td>...</td>\n",
       "      <td>12</td>\n",
       "      <td>7</td>\n",
       "      <td>0</td>\n",
       "      <td>50</td>\n",
       "      <td>342</td>\n",
       "      <td>4</td>\n",
       "      <td>0</td>\n",
       "      <td>0</td>\n",
       "      <td>0</td>\n",
       "      <td>0</td>\n",
       "    </tr>\n",
       "    <tr>\n",
       "      <th>3</th>\n",
       "      <td>Prague_1</td>\n",
       "      <td>2020-12-08</td>\n",
       "      <td>6550.0</td>\n",
       "      <td>NaN</td>\n",
       "      <td>0</td>\n",
       "      <td>0</td>\n",
       "      <td>0</td>\n",
       "      <td>0</td>\n",
       "      <td>3</td>\n",
       "      <td>train</td>\n",
       "      <td>...</td>\n",
       "      <td>12</td>\n",
       "      <td>8</td>\n",
       "      <td>1</td>\n",
       "      <td>50</td>\n",
       "      <td>343</td>\n",
       "      <td>4</td>\n",
       "      <td>0</td>\n",
       "      <td>0</td>\n",
       "      <td>0</td>\n",
       "      <td>0</td>\n",
       "    </tr>\n",
       "    <tr>\n",
       "      <th>4</th>\n",
       "      <td>Prague_1</td>\n",
       "      <td>2020-12-09</td>\n",
       "      <td>6910.0</td>\n",
       "      <td>NaN</td>\n",
       "      <td>0</td>\n",
       "      <td>0</td>\n",
       "      <td>0</td>\n",
       "      <td>0</td>\n",
       "      <td>4</td>\n",
       "      <td>train</td>\n",
       "      <td>...</td>\n",
       "      <td>12</td>\n",
       "      <td>9</td>\n",
       "      <td>2</td>\n",
       "      <td>50</td>\n",
       "      <td>344</td>\n",
       "      <td>4</td>\n",
       "      <td>0</td>\n",
       "      <td>0</td>\n",
       "      <td>0</td>\n",
       "      <td>0</td>\n",
       "    </tr>\n",
       "  </tbody>\n",
       "</table>\n",
       "<p>5 rows × 22 columns</p>\n",
       "</div>"
      ]
     },
     "execution_count": 125,
     "metadata": {},
     "output_type": "execute_result"
    }
   ],
   "execution_count": 125
  },
  {
   "cell_type": "code",
   "id": "ea2f337681e983d3",
   "metadata": {
    "ExecuteTime": {
     "end_time": "2024-08-16T10:06:50.031716Z",
     "start_time": "2024-08-16T10:06:50.018046Z"
    }
   },
   "source": [
    "df_combined['month_sin'] = np.sin(2 * pi * df_combined['date_month'] / 12)\n",
    "df_combined['month_cos'] = np.cos(2 * pi * df_combined['date_month'] / 12)\n",
    "df_combined['day_sin'] = np.sin(2 * pi * df_combined['date_day'] / 31)\n",
    "df_combined['day_cos'] = np.cos(2 * pi * df_combined['date_day'] / 31)"
   ],
   "outputs": [],
   "execution_count": 126
  },
  {
   "cell_type": "markdown",
   "id": "bde79d43e9e086cd",
   "metadata": {},
   "source": [
    "### Feature engineering\n"
   ]
  },
  {
   "cell_type": "code",
   "id": "94c554b8072fe681",
   "metadata": {
    "ExecuteTime": {
     "end_time": "2024-08-16T10:09:25.041366Z",
     "start_time": "2024-08-16T10:06:50.067926Z"
    }
   },
   "source": [
    "# Assuming df_combined is your DataFrame and it's sorted by date\n",
    "df_combined = df_combined.sort_values('date')\n",
    "\n",
    "# Function to find the nearest date before or after\n",
    "def find_nearest_date(date, dates, direction='before'):\n",
    "    if direction == 'before':\n",
    "        nearest = dates[dates < date].max()\n",
    "    else:  # 'after'\n",
    "        nearest = dates[dates > date].min()\n",
    "    return nearest if pd.notna(nearest) else None\n",
    "\n",
    "# Create new columns\n",
    "df_combined['holiday_before'] = np.nan\n",
    "df_combined['holiday_after'] = np.nan\n",
    "\n",
    "# Iterate through the DataFrame\n",
    "for idx, row in df_combined.iterrows():\n",
    "    warehouse = row['warehouse']\n",
    "    warehouse_dates = df_combined[df_combined['warehouse'] == warehouse]['date'].unique()\n",
    "    \n",
    "    date_before = find_nearest_date(row['date'], warehouse_dates, 'before')\n",
    "    date_after = find_nearest_date(row['date'], warehouse_dates, 'after')\n",
    "    \n",
    "    if date_before is not None:\n",
    "        df_combined.at[idx, 'holiday_before'] = df_combined[\n",
    "            (df_combined['date'] == date_before) & \n",
    "            (df_combined['warehouse'] == warehouse)\n",
    "        ]['holiday'].values[0]\n",
    "    \n",
    "    if date_after is not None:\n",
    "        df_combined.at[idx, 'holiday_after'] = df_combined[\n",
    "            (df_combined['date'] == date_after) & \n",
    "            (df_combined['warehouse'] == warehouse)\n",
    "        ]['holiday'].values[0]\n",
    "\n",
    "# Fill NaN values if needed\n",
    "df_combined['holiday_before'] = df_combined['holiday_before'].fillna(0)\n",
    "df_combined['holiday_after'] = df_combined['holiday_after'].fillna(0)"
   ],
   "outputs": [],
   "execution_count": 127
  },
  {
   "cell_type": "markdown",
   "id": "f8bb1f1f493ae712",
   "metadata": {},
   "source": [
    "### Lag and Rolling Window Features (abandoned cause no score improvement)"
   ]
  },
  {
   "cell_type": "code",
   "id": "f90f2a88e400b887",
   "metadata": {
    "ExecuteTime": {
     "end_time": "2024-08-16T10:09:25.062586Z",
     "start_time": "2024-08-16T10:09:25.051547Z"
    }
   },
   "source": [
    "'''\n",
    "# Assuming df_combined is your DataFrame and it's sorted by date\n",
    "df_combined = df_combined.sort_values(['warehouse', 'date'])\n",
    "\n",
    "# Create a column indicating whether a day is a working day (orders is not NaN)\n",
    "df_combined['is_working_day'] = df_combined['orders'].notna()\n",
    "'''"
   ],
   "outputs": [
    {
     "data": {
      "text/plain": [
       "\"\\n# Assuming df_combined is your DataFrame and it's sorted by date\\ndf_combined = df_combined.sort_values(['warehouse', 'date'])\\n\\n# Create a column indicating whether a day is a working day (orders is not NaN)\\ndf_combined['is_working_day'] = df_combined['orders'].notna()\\n\""
      ]
     },
     "execution_count": 128,
     "metadata": {},
     "output_type": "execute_result"
    }
   ],
   "execution_count": 128
  },
  {
   "cell_type": "code",
   "id": "ecacafb34e74c0b2",
   "metadata": {
    "ExecuteTime": {
     "end_time": "2024-08-16T10:09:25.070636Z",
     "start_time": "2024-08-16T10:09:25.064812Z"
    }
   },
   "source": [
    "'''\n",
    "# Function to calculate lag and rolling window features for working days\n",
    "def calculate_working_day_features(df, lag_days, rolling_days):\n",
    "    df_feature = df[df['data_source'] == 'train']\n",
    "    \n",
    "    # Lag features\n",
    "    for lag in lag_days:\n",
    "        df[f'lag_{lag}_working'] = df_feature.groupby('warehouse')['orders'].shift(lag)\n",
    "    \n",
    "    # Rolling window features\n",
    "    for window in rolling_days:\n",
    "        df[f'rolling_mean_{window}_working'] = df_feature.groupby('warehouse')['orders'].transform(lambda x: x.rolling(window).mean())\n",
    "    \n",
    "    # Ensure that these features are only calculated for working days\n",
    "    for feature in [f'lag_{lag}_working' for lag in lag_days] + [f'rolling_mean_{window}_working' for window in rolling_days]:\n",
    "        df[feature] = df[feature].where(df['is_working_day'], other=np.nan)\n",
    "    \n",
    "    return df\n",
    "'''"
   ],
   "outputs": [
    {
     "data": {
      "text/plain": [
       "\"\\n# Function to calculate lag and rolling window features for working days\\ndef calculate_working_day_features(df, lag_days, rolling_days):\\n    df_feature = df[df['data_source'] == 'train']\\n    \\n    # Lag features\\n    for lag in lag_days:\\n        df[f'lag_{lag}_working'] = df_feature.groupby('warehouse')['orders'].shift(lag)\\n    \\n    # Rolling window features\\n    for window in rolling_days:\\n        df[f'rolling_mean_{window}_working'] = df_feature.groupby('warehouse')['orders'].transform(lambda x: x.rolling(window).mean())\\n    \\n    # Ensure that these features are only calculated for working days\\n    for feature in [f'lag_{lag}_working' for lag in lag_days] + [f'rolling_mean_{window}_working' for window in rolling_days]:\\n        df[feature] = df[feature].where(df['is_working_day'], other=np.nan)\\n    \\n    return df\\n\""
      ]
     },
     "execution_count": 129,
     "metadata": {},
     "output_type": "execute_result"
    }
   ],
   "execution_count": 129
  },
  {
   "cell_type": "code",
   "id": "c37d2bcc2419e5fb",
   "metadata": {
    "ExecuteTime": {
     "end_time": "2024-08-16T10:09:25.085224Z",
     "start_time": "2024-08-16T10:09:25.075376Z"
    }
   },
   "source": [
    "'''\n",
    "# Define the number of working days equivalent to your original periods\n",
    "lag_days = [63, 168, 364]\n",
    "rolling_days = [63, 168, 364]\n",
    "\n",
    "# Calculate the working day features\n",
    "df_combined = calculate_working_day_features(df_combined, lag_days, rolling_days)\n",
    "'''"
   ],
   "outputs": [
    {
     "data": {
      "text/plain": [
       "'\\n# Define the number of working days equivalent to your original periods\\nlag_days = [63, 168, 364]\\nrolling_days = [63, 168, 364]\\n\\n# Calculate the working day features\\ndf_combined = calculate_working_day_features(df_combined, lag_days, rolling_days)\\n'"
      ]
     },
     "execution_count": 130,
     "metadata": {},
     "output_type": "execute_result"
    }
   ],
   "execution_count": 130
  },
  {
   "cell_type": "code",
   "id": "7be3a70382b16e7f",
   "metadata": {
    "ExecuteTime": {
     "end_time": "2024-08-16T10:09:25.095969Z",
     "start_time": "2024-08-16T10:09:25.088169Z"
    }
   },
   "source": [
    "'''\n",
    "# Fill NaN values in lag and rolling window features with -1\n",
    "lag_features = [f'lag_{lag}_working' for lag in lag_days]\n",
    "rolling_features = [f'rolling_mean_{window}_working' for window in rolling_days]\n",
    "\n",
    "df_combined[lag_features + rolling_features] = df_combined[lag_features + rolling_features].fillna(-1)\n",
    "'''"
   ],
   "outputs": [
    {
     "data": {
      "text/plain": [
       "\"\\n# Fill NaN values in lag and rolling window features with -1\\nlag_features = [f'lag_{lag}_working' for lag in lag_days]\\nrolling_features = [f'rolling_mean_{window}_working' for window in rolling_days]\\n\\ndf_combined[lag_features + rolling_features] = df_combined[lag_features + rolling_features].fillna(-1)\\n\""
      ]
     },
     "execution_count": 131,
     "metadata": {},
     "output_type": "execute_result"
    }
   ],
   "execution_count": 131
  },
  {
   "cell_type": "markdown",
   "id": "f99a6a16efd0b57d",
   "metadata": {},
   "source": [
    "### One Hot Encoding"
   ]
  },
  {
   "cell_type": "code",
   "id": "528d4d7d02624079",
   "metadata": {
    "ExecuteTime": {
     "end_time": "2024-08-16T10:09:25.181681Z",
     "start_time": "2024-08-16T10:09:25.098864Z"
    }
   },
   "source": [
    "# One-hot encode 'warehouse' column\n",
    "warehouse_reshaped = df_combined['warehouse'].values.reshape(-1, 1)\n",
    "warehouse_onehot = OneHotEncoder(sparse_output=False)\n",
    "warehouse_onehot_encoded = warehouse_onehot.fit_transform(warehouse_reshaped)\n",
    "warehouse_onehot_encoded_df = pd.DataFrame(warehouse_onehot_encoded, columns=warehouse_onehot.get_feature_names_out(['warehouse']))\n",
    "df_combined = pd.concat([df_combined.reset_index(drop=True), warehouse_onehot_encoded_df], axis=1)\n",
    "\n",
    "# One-hot encode 'holiday_name' column in training data\n",
    "df_combined['holiday_name'] = df_combined['holiday_name'].fillna('NaN')\n",
    "holiday_name_reshaped_train = df_combined['holiday_name'].values.reshape(-1, 1)\n",
    "holiday_name_onehot = OneHotEncoder(sparse_output=False)\n",
    "holiday_name_onehot_encoded_train = holiday_name_onehot.fit_transform(holiday_name_reshaped_train)\n",
    "holiday_name_onehot_encoded_train_df = pd.DataFrame(holiday_name_onehot_encoded_train, columns=holiday_name_onehot.get_feature_names_out(['holiday_name']))\n",
    "df_combined = pd.concat([df_combined.reset_index(drop=True), holiday_name_onehot_encoded_train_df], axis=1)"
   ],
   "outputs": [],
   "execution_count": 132
  },
  {
   "cell_type": "code",
   "id": "188f9fead78d3c18",
   "metadata": {
    "ExecuteTime": {
     "end_time": "2024-08-16T10:09:25.188600Z",
     "start_time": "2024-08-16T10:09:25.183916Z"
    }
   },
   "source": "#df_combined = df_combined.drop(columns=['date'])",
   "outputs": [],
   "execution_count": 133
  },
  {
   "cell_type": "markdown",
   "id": "6b54342f7d4c0b08",
   "metadata": {},
   "source": [
    "### Formatting"
   ]
  },
  {
   "cell_type": "code",
   "id": "f24a4659d3f50f33",
   "metadata": {
    "ExecuteTime": {
     "end_time": "2024-08-16T10:09:25.206332Z",
     "start_time": "2024-08-16T10:09:25.191287Z"
    }
   },
   "source": [
    "df_combined = df_combined.drop(columns=['holiday_name', 'warehouse'])"
   ],
   "outputs": [],
   "execution_count": 134
  },
  {
   "cell_type": "code",
   "id": "a99d6b30e7399b58",
   "metadata": {
    "ExecuteTime": {
     "end_time": "2024-08-16T10:09:25.235292Z",
     "start_time": "2024-08-16T10:09:25.209301Z"
    }
   },
   "source": [
    "df_combined.info()"
   ],
   "outputs": [
    {
     "name": "stdout",
     "output_type": "stream",
     "text": [
      "<class 'pandas.core.frame.DataFrame'>\n",
      "RangeIndex: 15176 entries, 0 to 15175\n",
      "Data columns (total 71 columns):\n",
      " #   Column                                                                    Non-Null Count  Dtype         \n",
      "---  ------                                                                    --------------  -----         \n",
      " 0   date                                                                      15176 non-null  datetime64[ns]\n",
      " 1   orders                                                                    7340 non-null   float64       \n",
      " 2   holiday                                                                   15176 non-null  int64         \n",
      " 3   shops_closed                                                              15176 non-null  int64         \n",
      " 4   winter_school_holidays                                                    15176 non-null  int64         \n",
      " 5   school_holidays                                                           15176 non-null  int64         \n",
      " 6   original_index                                                            15176 non-null  int64         \n",
      " 7   data_source                                                               15176 non-null  object        \n",
      " 8   id                                                                        397 non-null    object        \n",
      " 9   date_year                                                                 15176 non-null  int32         \n",
      " 10  date_month                                                                15176 non-null  int32         \n",
      " 11  date_day                                                                  15176 non-null  int32         \n",
      " 12  date_day_of_week                                                          15176 non-null  int32         \n",
      " 13  date_week_of_year                                                         15176 non-null  UInt32        \n",
      " 14  date_day_of_year                                                          15176 non-null  int32         \n",
      " 15  date_quarter                                                              15176 non-null  int32         \n",
      " 16  date_is_month_start                                                       15176 non-null  int64         \n",
      " 17  date_is_month_end                                                         15176 non-null  int64         \n",
      " 18  date_is_quarter_start                                                     15176 non-null  int64         \n",
      " 19  date_is_quarter_end                                                       15176 non-null  int64         \n",
      " 20  month_sin                                                                 15176 non-null  float64       \n",
      " 21  month_cos                                                                 15176 non-null  float64       \n",
      " 22  day_sin                                                                   15176 non-null  float64       \n",
      " 23  day_cos                                                                   15176 non-null  float64       \n",
      " 24  holiday_before                                                            15176 non-null  float64       \n",
      " 25  holiday_after                                                             15176 non-null  float64       \n",
      " 26  warehouse_Brno_1                                                          15176 non-null  float64       \n",
      " 27  warehouse_Budapest_1                                                      15176 non-null  float64       \n",
      " 28  warehouse_Frankfurt_1                                                     15176 non-null  float64       \n",
      " 29  warehouse_Munich_1                                                        15176 non-null  float64       \n",
      " 30  warehouse_Prague_1                                                        15176 non-null  float64       \n",
      " 31  warehouse_Prague_2                                                        15176 non-null  float64       \n",
      " 32  warehouse_Prague_3                                                        15176 non-null  float64       \n",
      " 33  holiday_name_1848 Revolution Memorial Day (Extra holiday)                 15176 non-null  float64       \n",
      " 34  holiday_name_1st Christmas Day                                            15176 non-null  float64       \n",
      " 35  holiday_name_2nd Christmas Day                                            15176 non-null  float64       \n",
      " 36  holiday_name_All Saints Day                                               15176 non-null  float64       \n",
      " 37  holiday_name_All Saints' Day Holiday                                      15176 non-null  float64       \n",
      " 38  holiday_name_Ascension day                                                15176 non-null  float64       \n",
      " 39  holiday_name_Assumption of the Virgin Mary                                15176 non-null  float64       \n",
      " 40  holiday_name_Christmas Eve                                                15176 non-null  float64       \n",
      " 41  holiday_name_Christmas Holiday                                            15176 non-null  float64       \n",
      " 42  holiday_name_Corpus Christi                                               15176 non-null  float64       \n",
      " 43  holiday_name_Cyrila a Metodej                                             15176 non-null  float64       \n",
      " 44  holiday_name_Day of National Unity                                        15176 non-null  float64       \n",
      " 45  holiday_name_Den boje za svobodu a demokracii                             15176 non-null  float64       \n",
      " 46  holiday_name_Den ceske statnosti                                          15176 non-null  float64       \n",
      " 47  holiday_name_Den osvobozeni                                               15176 non-null  float64       \n",
      " 48  holiday_name_Den vzniku samostatneho ceskoslovenskeho statu               15176 non-null  float64       \n",
      " 49  holiday_name_Easter Monday                                                15176 non-null  float64       \n",
      " 50  holiday_name_Epiphany                                                     15176 non-null  float64       \n",
      " 51  holiday_name_German Unity Day                                             15176 non-null  float64       \n",
      " 52  holiday_name_Good Friday                                                  15176 non-null  float64       \n",
      " 53  holiday_name_Hungary National Day Holiday                                 15176 non-null  float64       \n",
      " 54  holiday_name_Independent Hungary Day                                      15176 non-null  float64       \n",
      " 55  holiday_name_International womens day                                     15176 non-null  float64       \n",
      " 56  holiday_name_Jan Hus                                                      15176 non-null  float64       \n",
      " 57  holiday_name_Labour Day                                                   15176 non-null  float64       \n",
      " 58  holiday_name_Memorial Day for the Martyrs of Arad                         15176 non-null  float64       \n",
      " 59  holiday_name_Memorial Day for the Victims of the Communist Dictatorships  15176 non-null  float64       \n",
      " 60  holiday_name_Memorial Day for the Victims of the Holocaust                15176 non-null  float64       \n",
      " 61  holiday_name_Memorial Day of the Republic                                 15176 non-null  float64       \n",
      " 62  holiday_name_Memorial day of the 1956 Revolution                          15176 non-null  float64       \n",
      " 63  holiday_name_NaN                                                          15176 non-null  float64       \n",
      " 64  holiday_name_National Defense Day                                         15176 non-null  float64       \n",
      " 65  holiday_name_New Years Day                                                15176 non-null  float64       \n",
      " 66  holiday_name_Peace Festival in Augsburg                                   15176 non-null  float64       \n",
      " 67  holiday_name_Reformation Day                                              15176 non-null  float64       \n",
      " 68  holiday_name_State Foundation Day                                         15176 non-null  float64       \n",
      " 69  holiday_name_Whit monday                                                  15176 non-null  float64       \n",
      " 70  holiday_name_Whit sunday                                                  15176 non-null  float64       \n",
      "dtypes: UInt32(1), datetime64[ns](1), float64(52), int32(6), int64(9), object(2)\n",
      "memory usage: 7.8+ MB\n"
     ]
    }
   ],
   "execution_count": 135
  },
  {
   "cell_type": "code",
   "id": "351c7f8e83f2d8d7",
   "metadata": {
    "ExecuteTime": {
     "end_time": "2024-08-16T10:09:25.262232Z",
     "start_time": "2024-08-16T10:09:25.240350Z"
    }
   },
   "source": [
    "df_train_processed = df_combined[df_combined['data_source'] == 'train'].drop(columns=['data_source'])\n",
    "df_test_processed = df_combined[df_combined['data_source'] == 'test'].drop(columns=['data_source'])\n",
    "df_test_processed = df_test_processed.sort_values('original_index')"
   ],
   "outputs": [],
   "execution_count": 136
  },
  {
   "cell_type": "code",
   "id": "e64c7f8195c63427",
   "metadata": {
    "ExecuteTime": {
     "end_time": "2024-08-16T10:09:25.270579Z",
     "start_time": "2024-08-16T10:09:25.263821Z"
    }
   },
   "source": [
    "df_train_processed.shape"
   ],
   "outputs": [
    {
     "data": {
      "text/plain": [
       "(13307, 70)"
      ]
     },
     "execution_count": 137,
     "metadata": {},
     "output_type": "execute_result"
    }
   ],
   "execution_count": 137
  },
  {
   "cell_type": "code",
   "id": "134df47a88355da0",
   "metadata": {
    "ExecuteTime": {
     "end_time": "2024-08-16T10:09:25.280038Z",
     "start_time": "2024-08-16T10:09:25.272697Z"
    }
   },
   "source": [
    "df_test_processed.shape"
   ],
   "outputs": [
    {
     "data": {
      "text/plain": [
       "(1869, 70)"
      ]
     },
     "execution_count": 138,
     "metadata": {},
     "output_type": "execute_result"
    }
   ],
   "execution_count": 138
  },
  {
   "cell_type": "code",
   "id": "48c86cd84a5d1b38",
   "metadata": {
    "ExecuteTime": {
     "end_time": "2024-08-16T10:09:25.319021Z",
     "start_time": "2024-08-16T10:09:25.282464Z"
    }
   },
   "source": [
    "df_train_processed.head()"
   ],
   "outputs": [
    {
     "data": {
      "text/plain": [
       "        date  orders  holiday  shops_closed  winter_school_holidays  \\\n",
       "0 2019-01-01     NaN        1             1                       0   \n",
       "1 2019-01-01     NaN        1             1                       0   \n",
       "2 2019-01-01     NaN        1             1                       0   \n",
       "3 2019-01-01     NaN        1             1                       0   \n",
       "4 2019-01-01     NaN        1             1                       0   \n",
       "\n",
       "   school_holidays  original_index   id  date_year  date_month  ...  \\\n",
       "0                0            9447  NaN       2019           1  ...   \n",
       "1                0           10779  NaN       2019           1  ...   \n",
       "2                0            9848  NaN       2019           1  ...   \n",
       "3                0            8425  NaN       2019           1  ...   \n",
       "4                0           13275  NaN       2019           1  ...   \n",
       "\n",
       "   holiday_name_Memorial Day of the Republic  \\\n",
       "0                                        0.0   \n",
       "1                                        0.0   \n",
       "2                                        0.0   \n",
       "3                                        0.0   \n",
       "4                                        0.0   \n",
       "\n",
       "   holiday_name_Memorial day of the 1956 Revolution  holiday_name_NaN  \\\n",
       "0                                               0.0               0.0   \n",
       "1                                               0.0               0.0   \n",
       "2                                               0.0               0.0   \n",
       "3                                               0.0               0.0   \n",
       "4                                               0.0               0.0   \n",
       "\n",
       "   holiday_name_National Defense Day  holiday_name_New Years Day  \\\n",
       "0                                0.0                         1.0   \n",
       "1                                0.0                         1.0   \n",
       "2                                0.0                         1.0   \n",
       "3                                0.0                         1.0   \n",
       "4                                0.0                         1.0   \n",
       "\n",
       "   holiday_name_Peace Festival in Augsburg  holiday_name_Reformation Day  \\\n",
       "0                                      0.0                           0.0   \n",
       "1                                      0.0                           0.0   \n",
       "2                                      0.0                           0.0   \n",
       "3                                      0.0                           0.0   \n",
       "4                                      0.0                           0.0   \n",
       "\n",
       "   holiday_name_State Foundation Day  holiday_name_Whit monday  \\\n",
       "0                                0.0                       0.0   \n",
       "1                                0.0                       0.0   \n",
       "2                                0.0                       0.0   \n",
       "3                                0.0                       0.0   \n",
       "4                                0.0                       0.0   \n",
       "\n",
       "   holiday_name_Whit sunday  \n",
       "0                       0.0  \n",
       "1                       0.0  \n",
       "2                       0.0  \n",
       "3                       0.0  \n",
       "4                       0.0  \n",
       "\n",
       "[5 rows x 70 columns]"
      ],
      "text/html": [
       "<div>\n",
       "<style scoped>\n",
       "    .dataframe tbody tr th:only-of-type {\n",
       "        vertical-align: middle;\n",
       "    }\n",
       "\n",
       "    .dataframe tbody tr th {\n",
       "        vertical-align: top;\n",
       "    }\n",
       "\n",
       "    .dataframe thead th {\n",
       "        text-align: right;\n",
       "    }\n",
       "</style>\n",
       "<table border=\"1\" class=\"dataframe\">\n",
       "  <thead>\n",
       "    <tr style=\"text-align: right;\">\n",
       "      <th></th>\n",
       "      <th>date</th>\n",
       "      <th>orders</th>\n",
       "      <th>holiday</th>\n",
       "      <th>shops_closed</th>\n",
       "      <th>winter_school_holidays</th>\n",
       "      <th>school_holidays</th>\n",
       "      <th>original_index</th>\n",
       "      <th>id</th>\n",
       "      <th>date_year</th>\n",
       "      <th>date_month</th>\n",
       "      <th>...</th>\n",
       "      <th>holiday_name_Memorial Day of the Republic</th>\n",
       "      <th>holiday_name_Memorial day of the 1956 Revolution</th>\n",
       "      <th>holiday_name_NaN</th>\n",
       "      <th>holiday_name_National Defense Day</th>\n",
       "      <th>holiday_name_New Years Day</th>\n",
       "      <th>holiday_name_Peace Festival in Augsburg</th>\n",
       "      <th>holiday_name_Reformation Day</th>\n",
       "      <th>holiday_name_State Foundation Day</th>\n",
       "      <th>holiday_name_Whit monday</th>\n",
       "      <th>holiday_name_Whit sunday</th>\n",
       "    </tr>\n",
       "  </thead>\n",
       "  <tbody>\n",
       "    <tr>\n",
       "      <th>0</th>\n",
       "      <td>2019-01-01</td>\n",
       "      <td>NaN</td>\n",
       "      <td>1</td>\n",
       "      <td>1</td>\n",
       "      <td>0</td>\n",
       "      <td>0</td>\n",
       "      <td>9447</td>\n",
       "      <td>NaN</td>\n",
       "      <td>2019</td>\n",
       "      <td>1</td>\n",
       "      <td>...</td>\n",
       "      <td>0.0</td>\n",
       "      <td>0.0</td>\n",
       "      <td>0.0</td>\n",
       "      <td>0.0</td>\n",
       "      <td>1.0</td>\n",
       "      <td>0.0</td>\n",
       "      <td>0.0</td>\n",
       "      <td>0.0</td>\n",
       "      <td>0.0</td>\n",
       "      <td>0.0</td>\n",
       "    </tr>\n",
       "    <tr>\n",
       "      <th>1</th>\n",
       "      <td>2019-01-01</td>\n",
       "      <td>NaN</td>\n",
       "      <td>1</td>\n",
       "      <td>1</td>\n",
       "      <td>0</td>\n",
       "      <td>0</td>\n",
       "      <td>10779</td>\n",
       "      <td>NaN</td>\n",
       "      <td>2019</td>\n",
       "      <td>1</td>\n",
       "      <td>...</td>\n",
       "      <td>0.0</td>\n",
       "      <td>0.0</td>\n",
       "      <td>0.0</td>\n",
       "      <td>0.0</td>\n",
       "      <td>1.0</td>\n",
       "      <td>0.0</td>\n",
       "      <td>0.0</td>\n",
       "      <td>0.0</td>\n",
       "      <td>0.0</td>\n",
       "      <td>0.0</td>\n",
       "    </tr>\n",
       "    <tr>\n",
       "      <th>2</th>\n",
       "      <td>2019-01-01</td>\n",
       "      <td>NaN</td>\n",
       "      <td>1</td>\n",
       "      <td>1</td>\n",
       "      <td>0</td>\n",
       "      <td>0</td>\n",
       "      <td>9848</td>\n",
       "      <td>NaN</td>\n",
       "      <td>2019</td>\n",
       "      <td>1</td>\n",
       "      <td>...</td>\n",
       "      <td>0.0</td>\n",
       "      <td>0.0</td>\n",
       "      <td>0.0</td>\n",
       "      <td>0.0</td>\n",
       "      <td>1.0</td>\n",
       "      <td>0.0</td>\n",
       "      <td>0.0</td>\n",
       "      <td>0.0</td>\n",
       "      <td>0.0</td>\n",
       "      <td>0.0</td>\n",
       "    </tr>\n",
       "    <tr>\n",
       "      <th>3</th>\n",
       "      <td>2019-01-01</td>\n",
       "      <td>NaN</td>\n",
       "      <td>1</td>\n",
       "      <td>1</td>\n",
       "      <td>0</td>\n",
       "      <td>0</td>\n",
       "      <td>8425</td>\n",
       "      <td>NaN</td>\n",
       "      <td>2019</td>\n",
       "      <td>1</td>\n",
       "      <td>...</td>\n",
       "      <td>0.0</td>\n",
       "      <td>0.0</td>\n",
       "      <td>0.0</td>\n",
       "      <td>0.0</td>\n",
       "      <td>1.0</td>\n",
       "      <td>0.0</td>\n",
       "      <td>0.0</td>\n",
       "      <td>0.0</td>\n",
       "      <td>0.0</td>\n",
       "      <td>0.0</td>\n",
       "    </tr>\n",
       "    <tr>\n",
       "      <th>4</th>\n",
       "      <td>2019-01-01</td>\n",
       "      <td>NaN</td>\n",
       "      <td>1</td>\n",
       "      <td>1</td>\n",
       "      <td>0</td>\n",
       "      <td>0</td>\n",
       "      <td>13275</td>\n",
       "      <td>NaN</td>\n",
       "      <td>2019</td>\n",
       "      <td>1</td>\n",
       "      <td>...</td>\n",
       "      <td>0.0</td>\n",
       "      <td>0.0</td>\n",
       "      <td>0.0</td>\n",
       "      <td>0.0</td>\n",
       "      <td>1.0</td>\n",
       "      <td>0.0</td>\n",
       "      <td>0.0</td>\n",
       "      <td>0.0</td>\n",
       "      <td>0.0</td>\n",
       "      <td>0.0</td>\n",
       "    </tr>\n",
       "  </tbody>\n",
       "</table>\n",
       "<p>5 rows × 70 columns</p>\n",
       "</div>"
      ]
     },
     "execution_count": 139,
     "metadata": {},
     "output_type": "execute_result"
    }
   ],
   "execution_count": 139
  },
  {
   "cell_type": "code",
   "id": "9e148f50fbbad233",
   "metadata": {
    "ExecuteTime": {
     "end_time": "2024-08-16T10:09:25.345281Z",
     "start_time": "2024-08-16T10:09:25.321294Z"
    }
   },
   "source": [
    "df_test_processed.head()"
   ],
   "outputs": [
    {
     "data": {
      "text/plain": [
       "            date  orders  holiday  shops_closed  winter_school_holidays  \\\n",
       "13308 2024-03-16     NaN        0             0                       0   \n",
       "13320 2024-03-17     NaN        0             0                       0   \n",
       "13327 2024-03-18     NaN        0             0                       0   \n",
       "13331 2024-03-19     NaN        0             0                       0   \n",
       "13335 2024-03-20     NaN        0             0                       0   \n",
       "\n",
       "       school_holidays  original_index                   id  date_year  \\\n",
       "13308                0               0  Prague_1_2024-03-16       2024   \n",
       "13320                0               1  Prague_1_2024-03-17       2024   \n",
       "13327                0               2  Prague_1_2024-03-18       2024   \n",
       "13331                0               3  Prague_1_2024-03-19       2024   \n",
       "13335                0               4  Prague_1_2024-03-20       2024   \n",
       "\n",
       "       date_month  ...  holiday_name_Memorial Day of the Republic  \\\n",
       "13308           3  ...                                        0.0   \n",
       "13320           3  ...                                        0.0   \n",
       "13327           3  ...                                        0.0   \n",
       "13331           3  ...                                        0.0   \n",
       "13335           3  ...                                        0.0   \n",
       "\n",
       "       holiday_name_Memorial day of the 1956 Revolution  holiday_name_NaN  \\\n",
       "13308                                               0.0               1.0   \n",
       "13320                                               0.0               1.0   \n",
       "13327                                               0.0               1.0   \n",
       "13331                                               0.0               1.0   \n",
       "13335                                               0.0               1.0   \n",
       "\n",
       "       holiday_name_National Defense Day  holiday_name_New Years Day  \\\n",
       "13308                                0.0                         0.0   \n",
       "13320                                0.0                         0.0   \n",
       "13327                                0.0                         0.0   \n",
       "13331                                0.0                         0.0   \n",
       "13335                                0.0                         0.0   \n",
       "\n",
       "       holiday_name_Peace Festival in Augsburg  holiday_name_Reformation Day  \\\n",
       "13308                                      0.0                           0.0   \n",
       "13320                                      0.0                           0.0   \n",
       "13327                                      0.0                           0.0   \n",
       "13331                                      0.0                           0.0   \n",
       "13335                                      0.0                           0.0   \n",
       "\n",
       "       holiday_name_State Foundation Day  holiday_name_Whit monday  \\\n",
       "13308                                0.0                       0.0   \n",
       "13320                                0.0                       0.0   \n",
       "13327                                0.0                       0.0   \n",
       "13331                                0.0                       0.0   \n",
       "13335                                0.0                       0.0   \n",
       "\n",
       "       holiday_name_Whit sunday  \n",
       "13308                       0.0  \n",
       "13320                       0.0  \n",
       "13327                       0.0  \n",
       "13331                       0.0  \n",
       "13335                       0.0  \n",
       "\n",
       "[5 rows x 70 columns]"
      ],
      "text/html": [
       "<div>\n",
       "<style scoped>\n",
       "    .dataframe tbody tr th:only-of-type {\n",
       "        vertical-align: middle;\n",
       "    }\n",
       "\n",
       "    .dataframe tbody tr th {\n",
       "        vertical-align: top;\n",
       "    }\n",
       "\n",
       "    .dataframe thead th {\n",
       "        text-align: right;\n",
       "    }\n",
       "</style>\n",
       "<table border=\"1\" class=\"dataframe\">\n",
       "  <thead>\n",
       "    <tr style=\"text-align: right;\">\n",
       "      <th></th>\n",
       "      <th>date</th>\n",
       "      <th>orders</th>\n",
       "      <th>holiday</th>\n",
       "      <th>shops_closed</th>\n",
       "      <th>winter_school_holidays</th>\n",
       "      <th>school_holidays</th>\n",
       "      <th>original_index</th>\n",
       "      <th>id</th>\n",
       "      <th>date_year</th>\n",
       "      <th>date_month</th>\n",
       "      <th>...</th>\n",
       "      <th>holiday_name_Memorial Day of the Republic</th>\n",
       "      <th>holiday_name_Memorial day of the 1956 Revolution</th>\n",
       "      <th>holiday_name_NaN</th>\n",
       "      <th>holiday_name_National Defense Day</th>\n",
       "      <th>holiday_name_New Years Day</th>\n",
       "      <th>holiday_name_Peace Festival in Augsburg</th>\n",
       "      <th>holiday_name_Reformation Day</th>\n",
       "      <th>holiday_name_State Foundation Day</th>\n",
       "      <th>holiday_name_Whit monday</th>\n",
       "      <th>holiday_name_Whit sunday</th>\n",
       "    </tr>\n",
       "  </thead>\n",
       "  <tbody>\n",
       "    <tr>\n",
       "      <th>13308</th>\n",
       "      <td>2024-03-16</td>\n",
       "      <td>NaN</td>\n",
       "      <td>0</td>\n",
       "      <td>0</td>\n",
       "      <td>0</td>\n",
       "      <td>0</td>\n",
       "      <td>0</td>\n",
       "      <td>Prague_1_2024-03-16</td>\n",
       "      <td>2024</td>\n",
       "      <td>3</td>\n",
       "      <td>...</td>\n",
       "      <td>0.0</td>\n",
       "      <td>0.0</td>\n",
       "      <td>1.0</td>\n",
       "      <td>0.0</td>\n",
       "      <td>0.0</td>\n",
       "      <td>0.0</td>\n",
       "      <td>0.0</td>\n",
       "      <td>0.0</td>\n",
       "      <td>0.0</td>\n",
       "      <td>0.0</td>\n",
       "    </tr>\n",
       "    <tr>\n",
       "      <th>13320</th>\n",
       "      <td>2024-03-17</td>\n",
       "      <td>NaN</td>\n",
       "      <td>0</td>\n",
       "      <td>0</td>\n",
       "      <td>0</td>\n",
       "      <td>0</td>\n",
       "      <td>1</td>\n",
       "      <td>Prague_1_2024-03-17</td>\n",
       "      <td>2024</td>\n",
       "      <td>3</td>\n",
       "      <td>...</td>\n",
       "      <td>0.0</td>\n",
       "      <td>0.0</td>\n",
       "      <td>1.0</td>\n",
       "      <td>0.0</td>\n",
       "      <td>0.0</td>\n",
       "      <td>0.0</td>\n",
       "      <td>0.0</td>\n",
       "      <td>0.0</td>\n",
       "      <td>0.0</td>\n",
       "      <td>0.0</td>\n",
       "    </tr>\n",
       "    <tr>\n",
       "      <th>13327</th>\n",
       "      <td>2024-03-18</td>\n",
       "      <td>NaN</td>\n",
       "      <td>0</td>\n",
       "      <td>0</td>\n",
       "      <td>0</td>\n",
       "      <td>0</td>\n",
       "      <td>2</td>\n",
       "      <td>Prague_1_2024-03-18</td>\n",
       "      <td>2024</td>\n",
       "      <td>3</td>\n",
       "      <td>...</td>\n",
       "      <td>0.0</td>\n",
       "      <td>0.0</td>\n",
       "      <td>1.0</td>\n",
       "      <td>0.0</td>\n",
       "      <td>0.0</td>\n",
       "      <td>0.0</td>\n",
       "      <td>0.0</td>\n",
       "      <td>0.0</td>\n",
       "      <td>0.0</td>\n",
       "      <td>0.0</td>\n",
       "    </tr>\n",
       "    <tr>\n",
       "      <th>13331</th>\n",
       "      <td>2024-03-19</td>\n",
       "      <td>NaN</td>\n",
       "      <td>0</td>\n",
       "      <td>0</td>\n",
       "      <td>0</td>\n",
       "      <td>0</td>\n",
       "      <td>3</td>\n",
       "      <td>Prague_1_2024-03-19</td>\n",
       "      <td>2024</td>\n",
       "      <td>3</td>\n",
       "      <td>...</td>\n",
       "      <td>0.0</td>\n",
       "      <td>0.0</td>\n",
       "      <td>1.0</td>\n",
       "      <td>0.0</td>\n",
       "      <td>0.0</td>\n",
       "      <td>0.0</td>\n",
       "      <td>0.0</td>\n",
       "      <td>0.0</td>\n",
       "      <td>0.0</td>\n",
       "      <td>0.0</td>\n",
       "    </tr>\n",
       "    <tr>\n",
       "      <th>13335</th>\n",
       "      <td>2024-03-20</td>\n",
       "      <td>NaN</td>\n",
       "      <td>0</td>\n",
       "      <td>0</td>\n",
       "      <td>0</td>\n",
       "      <td>0</td>\n",
       "      <td>4</td>\n",
       "      <td>Prague_1_2024-03-20</td>\n",
       "      <td>2024</td>\n",
       "      <td>3</td>\n",
       "      <td>...</td>\n",
       "      <td>0.0</td>\n",
       "      <td>0.0</td>\n",
       "      <td>1.0</td>\n",
       "      <td>0.0</td>\n",
       "      <td>0.0</td>\n",
       "      <td>0.0</td>\n",
       "      <td>0.0</td>\n",
       "      <td>0.0</td>\n",
       "      <td>0.0</td>\n",
       "      <td>0.0</td>\n",
       "    </tr>\n",
       "  </tbody>\n",
       "</table>\n",
       "<p>5 rows × 70 columns</p>\n",
       "</div>"
      ]
     },
     "execution_count": 140,
     "metadata": {},
     "output_type": "execute_result"
    }
   ],
   "execution_count": 140
  },
  {
   "cell_type": "code",
   "id": "1e2e86f21cf6a592",
   "metadata": {
    "ExecuteTime": {
     "end_time": "2024-08-16T10:09:25.355373Z",
     "start_time": "2024-08-16T10:09:25.347803Z"
    }
   },
   "source": [
    "df_train_processed = df_train_processed.drop(columns=['original_index', 'id'])\n",
    "df_test_processed = df_test_processed.drop(columns=['original_index', 'orders'])"
   ],
   "outputs": [],
   "execution_count": 141
  },
  {
   "cell_type": "code",
   "id": "1b7aa5f7397af90",
   "metadata": {
    "ExecuteTime": {
     "end_time": "2024-08-16T10:09:25.376037Z",
     "start_time": "2024-08-16T10:09:25.357860Z"
    }
   },
   "source": [
    "# Remove rows where 'orders' is null in the train set\n",
    "df_train_processed = df_train_processed.dropna(subset=['orders'])\n",
    "\n",
    "# Remove rows where 'id' is null in the test set\n",
    "df_test_processed = df_test_processed.dropna(subset=['id'])"
   ],
   "outputs": [],
   "execution_count": 142
  },
  {
   "cell_type": "code",
   "id": "27aee6162569815a",
   "metadata": {
    "ExecuteTime": {
     "end_time": "2024-08-16T10:09:25.384652Z",
     "start_time": "2024-08-16T10:09:25.378436Z"
    }
   },
   "source": "df_train_processed.shape",
   "outputs": [
    {
     "data": {
      "text/plain": [
       "(7340, 68)"
      ]
     },
     "execution_count": 143,
     "metadata": {},
     "output_type": "execute_result"
    }
   ],
   "execution_count": 143
  },
  {
   "cell_type": "code",
   "id": "946c9652403265f3",
   "metadata": {
    "ExecuteTime": {
     "end_time": "2024-08-16T10:09:25.394288Z",
     "start_time": "2024-08-16T10:09:25.387171Z"
    }
   },
   "source": [
    "df_test_processed.shape"
   ],
   "outputs": [
    {
     "data": {
      "text/plain": [
       "(397, 68)"
      ]
     },
     "execution_count": 144,
     "metadata": {},
     "output_type": "execute_result"
    }
   ],
   "execution_count": 144
  },
  {
   "cell_type": "markdown",
   "id": "ff93842307f6c26f",
   "metadata": {},
   "source": [
    "### Saving to pkl"
   ]
  },
  {
   "cell_type": "code",
   "id": "a9691eafd2feac0a",
   "metadata": {
    "ExecuteTime": {
     "end_time": "2024-08-16T10:09:25.417883Z",
     "start_time": "2024-08-16T10:09:25.397289Z"
    }
   },
   "source": [
    "df_train_processed.to_pickle('data/train_processed.pkl')"
   ],
   "outputs": [],
   "execution_count": 145
  },
  {
   "cell_type": "code",
   "id": "b61f6b3a39b28f6e",
   "metadata": {
    "ExecuteTime": {
     "end_time": "2024-08-16T10:09:25.429944Z",
     "start_time": "2024-08-16T10:09:25.420656Z"
    }
   },
   "source": [
    "df_test_processed.to_pickle('data/test_processed.pkl')"
   ],
   "outputs": [],
   "execution_count": 146
  }
 ],
 "metadata": {
  "kernelspec": {
   "display_name": "Python 3 (ipykernel)",
   "language": "python",
   "name": "python3"
  },
  "language_info": {
   "codemirror_mode": {
    "name": "ipython",
    "version": 3
   },
   "file_extension": ".py",
   "mimetype": "text/x-python",
   "name": "python",
   "nbconvert_exporter": "python",
   "pygments_lexer": "ipython3",
   "version": "3.10.12"
  }
 },
 "nbformat": 4,
 "nbformat_minor": 5
}
